{
  "cells": [
    {
      "cell_type": "markdown",
      "metadata": {
        "nbgrader": {
          "grade": false,
          "grade_id": "intro",
          "locked": true,
          "schema_version": 1,
          "solution": false
        },
        "id": "rjF0Mv2H5S1v"
      },
      "source": [
        "# Markov chain analysis of the US airport network\n",
        "\n",
        "One way to view the airline transportation infrastructure is in the form of a directed _network_ or _graph_, in which vertices are airports and edges are the direct-flight segments that connect them. For instance, if there is a direct flight from Atlanta's Hartsfield-Jackson International Airport (\"ATL\") to Los Angeles International Airport (\"LAX\"), then the airport network would have a directed edge from ATL to LAX."
      ]
    },
    {
      "cell_type": "markdown",
      "metadata": {
        "nbgrader": {
          "grade": false,
          "grade_id": "intro_1",
          "locked": true,
          "schema_version": 1,
          "solution": false
        },
        "id": "_fUnKEn15S11"
      },
      "source": [
        "Given the airport network, one question we might ask is, which airports are most critical to disruption of the overall network? That is, if an airport is shut down, thereby leading to all inbound and outbound flights being cancelled, will that catastrophic event have a big impact or a small impact on the overall network?\n",
        "\n",
        "You would expect \"importance\" to be related to whether an airport has lots of inbound or outgoing connections. In graph lingo, that's also called the _degree_ of a vertex or node. But if there are multiple routes that can work around a highly connected hub (i.e., a vertex with a high indegree or outdegree), that might not be the case. So let's try to use a PageRank-like scheme to see what we get and compare that to looking at degree."
      ]
    },
    {
      "cell_type": "markdown",
      "metadata": {
        "nbgrader": {
          "grade": false,
          "grade_id": "intro_2",
          "locked": true,
          "schema_version": 1,
          "solution": false
        },
        "id": "srNBbriT5S12"
      },
      "source": [
        "As it happens, the US Bureau of Transportation Statistics collects data on all flights originating or arriving in the United States. In this notebook, you'll use this data to build an airport network and then use Markov chain analysis to rank the networks by some measure of \"criticality.\""
      ]
    },
    {
      "cell_type": "markdown",
      "metadata": {
        "nbgrader": {
          "grade": false,
          "grade_id": "intro_3",
          "locked": true,
          "schema_version": 1,
          "solution": false
        },
        "id": "AIoJ8_GG5S13"
      },
      "source": [
        "> Sources: This notebook is adapted from the following: https://www.mongodb.com/blog/post/pagerank-on-flights-dataset. The dataset you will use was taken from the repository available here: https://www.transtats.bts.gov/DL_SelectFields.asp?Table_ID=236"
      ]
    },
    {
      "cell_type": "markdown",
      "metadata": {
        "nbgrader": {
          "grade": false,
          "grade_id": "formalize",
          "locked": true,
          "schema_version": 1,
          "solution": false
        },
        "id": "uqQ7rl4V5S14"
      },
      "source": [
        "## The formal analysis problem\n",
        "\n",
        "Let's model the analysis problem as follows.\n",
        "\n",
        "Consider a \"random flyer\" to be a person who arrives at an airport $i$, and then randomly selects any direct flight that departs from $i$ and arrives at $j$. We refer to the direct flight from $i$ to $j$ as the _flight segment_ $i \\rightarrow j$. Upon arriving at $j$, the flyer repeats the process of randomly selecting a new segment, $j \\rightarrow k$. He or she repeats this process forever."
      ]
    },
    {
      "cell_type": "markdown",
      "metadata": {
        "nbgrader": {
          "grade": false,
          "grade_id": "formalize_transition_scalar",
          "locked": true,
          "schema_version": 1,
          "solution": false
        },
        "id": "H_gH1QB75S15"
      },
      "source": [
        "Let $x_i(t)$ be the probability that the flyer is at airport $i$ at time $t$. Take $t$ to be an integer count corresponding to the number of flight segments that the flyer has taken so far, starting at $t=0$. Let $p_{ij}$ be the probability of taking segment $i \\rightarrow j$, where $p_{ij} = 0$ means the segment $i \\rightarrow j$ is unavailable or does not exist. If there are $n$ airports in all, numbered from $0$ to $n-1$, then the probability that the flyer will be at airport $i$ at time $t+1$, given all the probabilities at time $t$, is\n",
        "\n",
        "$$\n",
        "  x_i(t+1) = \\sum_{j=0}^{n-1} p_{ji} \\cdot x_j(t).\n",
        "$$"
      ]
    },
    {
      "cell_type": "markdown",
      "metadata": {
        "nbgrader": {
          "grade": false,
          "grade_id": "formalize_transition_vector",
          "locked": true,
          "schema_version": 1,
          "solution": false
        },
        "id": "-RJA8fjd5S17"
      },
      "source": [
        "Let $P \\equiv [p_{ij}]$ be the matrix of transition probabilities and $x(t) = [x_i(t)]$ the column vector of prior probabilities. Then we can write the above more succinctly for all airports as the matrix-vector product,\n",
        "\n",
        "$$\n",
        "  x(t+1) = P^T x(t).\n",
        "$$"
      ]
    },
    {
      "cell_type": "markdown",
      "metadata": {
        "nbgrader": {
          "grade": false,
          "grade_id": "formalize_steady_state",
          "locked": true,
          "schema_version": 1,
          "solution": false
        },
        "id": "n1suLalC5S18"
      },
      "source": [
        "Since $P$ is a probability transition matrix then there exists a steady-state distribution, $x^*$, which is the limit of $x(t)$ as $t$ goes to infinity:\n",
        "\n",
        "$$\\displaystyle \\lim_{t \\rightarrow \\infty} x(t) = x^* \\equiv [x_i^*].$$\n",
        "\n",
        "The larger $x_i^*$, the more likely it is that the random flyer is to be at airport $i$ in the steady state. Therefore, we can take the \"importance\" or \"criticality\" of airport $i$ in the flight network to be its steady-state probability, $x_i^*$.\n",
        "\n",
        "Thus, our data pre-processing goal is to construct $P$ and our analysis goal is to compute the steady-state probability distribution, $x^*$, for a first-order Markov chain system."
      ]
    },
    {
      "cell_type": "markdown",
      "metadata": {
        "nbgrader": {
          "grade": false,
          "grade_id": "modules",
          "locked": true,
          "schema_version": 1,
          "solution": false
        },
        "id": "EP2U5KX55S19"
      },
      "source": [
        "## Modules you'll need\n",
        "\n",
        "For this notebook, let's use Pandas for preprocessing the raw data and SciPy's sparse matrix libraries to implement the analysis.\n",
        "\n",
        "> One of the cells below defines a function, `spy()`, that can be used to visualize the non-zero structure of a sparse matrix."
      ]
    },
    {
      "cell_type": "code",
      "execution_count": 1,
      "metadata": {
        "collapsed": true,
        "nbgrader": {
          "grade": false,
          "grade_id": "setup",
          "locked": true,
          "schema_version": 1,
          "solution": false
        },
        "id": "FKXBhzmJ5S1-"
      },
      "outputs": [],
      "source": [
        "import numpy as np\n",
        "import scipy as sp\n",
        "import scipy.sparse\n",
        "\n",
        "import pandas as pd"
      ]
    },
    {
      "cell_type": "code",
      "execution_count": 2,
      "metadata": {
        "collapsed": true,
        "nbgrader": {
          "grade": false,
          "grade_id": "setup_spy",
          "locked": true,
          "schema_version": 1,
          "solution": false
        },
        "id": "2WxqeU7o5S2A"
      },
      "outputs": [],
      "source": [
        "import matplotlib.pyplot as plt\n",
        "%matplotlib inline\n",
        "\n",
        "def spy(A, figsize=(6, 6), markersize=0.5):\n",
        "    \"\"\"Visualizes a sparse matrix.\"\"\"\n",
        "    fig = plt.figure(figsize=figsize)\n",
        "    plt.spy(A, markersize=markersize)\n",
        "    plt.show()"
      ]
    },
    {
      "cell_type": "code",
      "execution_count": 3,
      "metadata": {
        "collapsed": true,
        "nbgrader": {
          "grade": false,
          "grade_id": "display",
          "locked": true,
          "schema_version": 1,
          "solution": false
        },
        "id": "d6qLGaTK5S2C"
      },
      "outputs": [],
      "source": [
        "from IPython.display import display, Markdown # For pretty-printing tibbles"
      ]
    },
    {
      "cell_type": "code",
      "execution_count": 4,
      "metadata": {
        "collapsed": true,
        "nbgrader": {
          "grade": false,
          "grade_id": "tibble_stuff",
          "locked": true,
          "schema_version": 1,
          "solution": false
        },
        "id": "LVWq9lwc5S2D"
      },
      "outputs": [],
      "source": [
        "def canonicalize_tibble(X):\n",
        "    var_names = sorted(X.columns)\n",
        "    Y = X[var_names].copy()\n",
        "    Y.sort_values(by=var_names, inplace=True)\n",
        "    Y.reset_index(drop=True, inplace=True)\n",
        "    return Y\n",
        "\n",
        "def tibbles_are_equivalent (A, B):\n",
        "    A_canonical = canonicalize_tibble(A)\n",
        "    B_canonical = canonicalize_tibble(B)\n",
        "    cmp = A_canonical.eq(B_canonical)\n",
        "    return cmp.all().all()"
      ]
    },
    {
      "cell_type": "markdown",
      "metadata": {
        "nbgrader": {
          "grade": false,
          "grade_id": "download_intro",
          "locked": true,
          "schema_version": 1,
          "solution": false
        },
        "id": "MyN1OvrL5S2E"
      },
      "source": [
        "## Part 0: Downloading, unpacking, and exploring the data\n",
        "\n",
        "You'll need some data for this assignment. The following code cell will check for it in your local environment, and if it doesn't exist, attempt to download it."
      ]
    },
    {
      "cell_type": "code",
      "execution_count": 5,
      "metadata": {
        "collapsed": true,
        "scrolled": true,
        "colab": {
          "base_uri": "https://localhost:8080/"
        },
        "id": "yjPz_BYk5S2F",
        "outputId": "2c1058c5-acff-4985-dea2-ed1c71e424ce"
      },
      "outputs": [
        {
          "output_type": "stream",
          "name": "stdout",
          "text": [
            "Downloading: https://github.com/cse6040/labs-fa17/raw/master/lab11-markov_chains/L_AIRPORT_ID.csv ...\n",
            "'L_AIRPORT_ID.csv' is ready!\n",
            "Downloading: https://github.com/cse6040/labs-fa17/raw/master/lab11-markov_chains/L_CITY_MARKET_ID.csv ...\n",
            "'L_CITY_MARKET_ID.csv' is ready!\n",
            "Downloading: https://github.com/cse6040/labs-fa17/raw/master/lab11-markov_chains/L_UNIQUE_CARRIERS.csv ...\n",
            "'L_UNIQUE_CARRIERS.csv' is ready!\n",
            "Downloading: https://github.com/cse6040/labs-fa17/raw/master/lab11-markov_chains/us-flights--2017-08.csv ...\n",
            "'us-flights--2017-08.csv' is ready!\n",
            "Downloading: https://github.com/cse6040/labs-fa17/raw/master/lab11-markov_chains/flights_atl_to_lax_soln.csv ...\n",
            "'flights_atl_to_lax_soln.csv' is ready!\n",
            "Downloading: https://github.com/cse6040/labs-fa17/raw/master/lab11-markov_chains/origins_top10_soln.csv ...\n",
            "'origins_top10_soln.csv' is ready!\n",
            "Downloading: https://github.com/cse6040/labs-fa17/raw/master/lab11-markov_chains/dests_soln.csv ...\n",
            "'dests_soln.csv' is ready!\n",
            "Downloading: https://github.com/cse6040/labs-fa17/raw/master/lab11-markov_chains/dests_top10_soln.csv ...\n",
            "'dests_top10_soln.csv' is ready!\n",
            "Downloading: https://github.com/cse6040/labs-fa17/raw/master/lab11-markov_chains/segments_soln.csv ...\n",
            "'segments_soln.csv' is ready!\n",
            "Downloading: https://github.com/cse6040/labs-fa17/raw/master/lab11-markov_chains/segments_outdegree_soln.csv ...\n",
            "'segments_outdegree_soln.csv' is ready!\n",
            "\n",
            "(All data appears to be ready.)\n"
          ]
        }
      ],
      "source": [
        "import requests\n",
        "import os\n",
        "import hashlib\n",
        "import io\n",
        "\n",
        "def on_vocareum():\n",
        "    return os.path.exists('.voc')\n",
        "\n",
        "def download(file, local_dir=\"\", url_base=None, checksum=None):\n",
        "    local_file = \"{}{}\".format(local_dir, file)\n",
        "    if not os.path.exists(local_file):\n",
        "        if url_base is None:\n",
        "            url_base = \"https://cse6040.gatech.edu/datasets/\"\n",
        "        url = \"{}{}\".format(url_base, file)\n",
        "        print(\"Downloading: {} ...\".format(url))\n",
        "        r = requests.get(url)\n",
        "        with open(local_file, 'wb') as f:\n",
        "            f.write(r.content)\n",
        "\n",
        "    if checksum is not None:\n",
        "        with io.open(local_file, 'rb') as f:\n",
        "            body = f.read()\n",
        "            body_checksum = hashlib.md5(body).hexdigest()\n",
        "            assert body_checksum == checksum, \\\n",
        "                \"Downloaded file '{}' has incorrect checksum: '{}' instead of '{}'\".format(local_file,\n",
        "                                                                                           body_checksum,\n",
        "                                                                                           checksum)\n",
        "    print(\"'{}' is ready!\".format(file))\n",
        "\n",
        "if on_vocareum():\n",
        "    URL_BASE = \"https://cse6040.gatech.edu/datasets/us-flights/\"\n",
        "    DATA_PATH = \"../resource/lib/publicdata/\"\n",
        "else:\n",
        "    URL_BASE = \"https://github.com/cse6040/labs-fa17/raw/master/lab11-markov_chains/\"\n",
        "    DATA_PATH = \"\"\n",
        "\n",
        "datasets = {'L_AIRPORT_ID.csv': 'e9f250e3c93d625cce92d08648c4bbf0',\n",
        "            'L_CITY_MARKET_ID.csv': 'f430a16a5fe4b9a849accb5d332b2bb8',\n",
        "            'L_UNIQUE_CARRIERS.csv': 'bebe919e85e2cf72e7041dbf1ae5794e',\n",
        "            'us-flights--2017-08.csv': 'eeb259c0cdd00ff1027261ca0a7c0332',\n",
        "            'flights_atl_to_lax_soln.csv': '4591f6501411de90af72693cdbcc08bb',\n",
        "            'origins_top10_soln.csv': 'de85c321c45c7bf65612754be4567086',\n",
        "            'dests_soln.csv': '370f4c632623616b3bf26b6f79993fe4',\n",
        "            'dests_top10_soln.csv': '4c7dd7edf48c4d62466964d6b8c14184',\n",
        "            'segments_soln.csv': '516a78d2d9d768d78bfb012b77671f38',\n",
        "            'segments_outdegree_soln.csv': 'b29d60151c617ebafd3a1c58541477c8'\n",
        "           }\n",
        "\n",
        "for filename, checksum in datasets.items():\n",
        "    download(filename, local_dir=DATA_PATH, url_base=URL_BASE, checksum=checksum)\n",
        "\n",
        "print(\"\\n(All data appears to be ready.)\")"
      ]
    },
    {
      "cell_type": "markdown",
      "metadata": {
        "nbgrader": {
          "grade": false,
          "grade_id": "cell-8e9b52d96a466a12",
          "locked": true,
          "schema_version": 1,
          "solution": false
        },
        "id": "Ic_WGQj_5S2F"
      },
      "source": [
        "**Airport codes.** Let's start with the airport codes."
      ]
    },
    {
      "cell_type": "code",
      "execution_count": 6,
      "metadata": {
        "collapsed": true,
        "nbgrader": {
          "grade": false,
          "grade_id": "show_airport_codes",
          "locked": true,
          "schema_version": 1,
          "solution": false
        },
        "colab": {
          "base_uri": "https://localhost:8080/",
          "height": 226
        },
        "id": "f6qe8CII5S2G",
        "outputId": "9ab963c2-8089-4a4e-f8a3-f842d4f24f13"
      },
      "outputs": [
        {
          "output_type": "execute_result",
          "data": {
            "text/plain": [
              "    Code                                    Description\n",
              "0  10001         Afognak Lake, AK: Afognak Lake Airport\n",
              "1  10003  Granite Mountain, AK: Bear Creek Mining Strip\n",
              "2  10004                       Lik, AK: Lik Mining Camp\n",
              "3  10005         Little Squaw, AK: Little Squaw Airport\n",
              "4  10006                     Kizhuyak, AK: Kizhuyak Bay"
            ],
            "text/html": [
              "\n",
              "  <div id=\"df-bf5b9f7c-1d42-4bf7-ba08-16285c2a56dd\" class=\"colab-df-container\">\n",
              "    <div>\n",
              "<style scoped>\n",
              "    .dataframe tbody tr th:only-of-type {\n",
              "        vertical-align: middle;\n",
              "    }\n",
              "\n",
              "    .dataframe tbody tr th {\n",
              "        vertical-align: top;\n",
              "    }\n",
              "\n",
              "    .dataframe thead th {\n",
              "        text-align: right;\n",
              "    }\n",
              "</style>\n",
              "<table border=\"1\" class=\"dataframe\">\n",
              "  <thead>\n",
              "    <tr style=\"text-align: right;\">\n",
              "      <th></th>\n",
              "      <th>Code</th>\n",
              "      <th>Description</th>\n",
              "    </tr>\n",
              "  </thead>\n",
              "  <tbody>\n",
              "    <tr>\n",
              "      <th>0</th>\n",
              "      <td>10001</td>\n",
              "      <td>Afognak Lake, AK: Afognak Lake Airport</td>\n",
              "    </tr>\n",
              "    <tr>\n",
              "      <th>1</th>\n",
              "      <td>10003</td>\n",
              "      <td>Granite Mountain, AK: Bear Creek Mining Strip</td>\n",
              "    </tr>\n",
              "    <tr>\n",
              "      <th>2</th>\n",
              "      <td>10004</td>\n",
              "      <td>Lik, AK: Lik Mining Camp</td>\n",
              "    </tr>\n",
              "    <tr>\n",
              "      <th>3</th>\n",
              "      <td>10005</td>\n",
              "      <td>Little Squaw, AK: Little Squaw Airport</td>\n",
              "    </tr>\n",
              "    <tr>\n",
              "      <th>4</th>\n",
              "      <td>10006</td>\n",
              "      <td>Kizhuyak, AK: Kizhuyak Bay</td>\n",
              "    </tr>\n",
              "  </tbody>\n",
              "</table>\n",
              "</div>\n",
              "    <div class=\"colab-df-buttons\">\n",
              "\n",
              "  <div class=\"colab-df-container\">\n",
              "    <button class=\"colab-df-convert\" onclick=\"convertToInteractive('df-bf5b9f7c-1d42-4bf7-ba08-16285c2a56dd')\"\n",
              "            title=\"Convert this dataframe to an interactive table.\"\n",
              "            style=\"display:none;\">\n",
              "\n",
              "  <svg xmlns=\"http://www.w3.org/2000/svg\" height=\"24px\" viewBox=\"0 -960 960 960\">\n",
              "    <path d=\"M120-120v-720h720v720H120Zm60-500h600v-160H180v160Zm220 220h160v-160H400v160Zm0 220h160v-160H400v160ZM180-400h160v-160H180v160Zm440 0h160v-160H620v160ZM180-180h160v-160H180v160Zm440 0h160v-160H620v160Z\"/>\n",
              "  </svg>\n",
              "    </button>\n",
              "\n",
              "  <style>\n",
              "    .colab-df-container {\n",
              "      display:flex;\n",
              "      gap: 12px;\n",
              "    }\n",
              "\n",
              "    .colab-df-convert {\n",
              "      background-color: #E8F0FE;\n",
              "      border: none;\n",
              "      border-radius: 50%;\n",
              "      cursor: pointer;\n",
              "      display: none;\n",
              "      fill: #1967D2;\n",
              "      height: 32px;\n",
              "      padding: 0 0 0 0;\n",
              "      width: 32px;\n",
              "    }\n",
              "\n",
              "    .colab-df-convert:hover {\n",
              "      background-color: #E2EBFA;\n",
              "      box-shadow: 0px 1px 2px rgba(60, 64, 67, 0.3), 0px 1px 3px 1px rgba(60, 64, 67, 0.15);\n",
              "      fill: #174EA6;\n",
              "    }\n",
              "\n",
              "    .colab-df-buttons div {\n",
              "      margin-bottom: 4px;\n",
              "    }\n",
              "\n",
              "    [theme=dark] .colab-df-convert {\n",
              "      background-color: #3B4455;\n",
              "      fill: #D2E3FC;\n",
              "    }\n",
              "\n",
              "    [theme=dark] .colab-df-convert:hover {\n",
              "      background-color: #434B5C;\n",
              "      box-shadow: 0px 1px 3px 1px rgba(0, 0, 0, 0.15);\n",
              "      filter: drop-shadow(0px 1px 2px rgba(0, 0, 0, 0.3));\n",
              "      fill: #FFFFFF;\n",
              "    }\n",
              "  </style>\n",
              "\n",
              "    <script>\n",
              "      const buttonEl =\n",
              "        document.querySelector('#df-bf5b9f7c-1d42-4bf7-ba08-16285c2a56dd button.colab-df-convert');\n",
              "      buttonEl.style.display =\n",
              "        google.colab.kernel.accessAllowed ? 'block' : 'none';\n",
              "\n",
              "      async function convertToInteractive(key) {\n",
              "        const element = document.querySelector('#df-bf5b9f7c-1d42-4bf7-ba08-16285c2a56dd');\n",
              "        const dataTable =\n",
              "          await google.colab.kernel.invokeFunction('convertToInteractive',\n",
              "                                                    [key], {});\n",
              "        if (!dataTable) return;\n",
              "\n",
              "        const docLinkHtml = 'Like what you see? Visit the ' +\n",
              "          '<a target=\"_blank\" href=https://colab.research.google.com/notebooks/data_table.ipynb>data table notebook</a>'\n",
              "          + ' to learn more about interactive tables.';\n",
              "        element.innerHTML = '';\n",
              "        dataTable['output_type'] = 'display_data';\n",
              "        await google.colab.output.renderOutput(dataTable, element);\n",
              "        const docLink = document.createElement('div');\n",
              "        docLink.innerHTML = docLinkHtml;\n",
              "        element.appendChild(docLink);\n",
              "      }\n",
              "    </script>\n",
              "  </div>\n",
              "\n",
              "\n",
              "<div id=\"df-e0a95d5b-b666-4714-a63f-d7e0a3f1c3fa\">\n",
              "  <button class=\"colab-df-quickchart\" onclick=\"quickchart('df-e0a95d5b-b666-4714-a63f-d7e0a3f1c3fa')\"\n",
              "            title=\"Suggest charts\"\n",
              "            style=\"display:none;\">\n",
              "\n",
              "<svg xmlns=\"http://www.w3.org/2000/svg\" height=\"24px\"viewBox=\"0 0 24 24\"\n",
              "     width=\"24px\">\n",
              "    <g>\n",
              "        <path d=\"M19 3H5c-1.1 0-2 .9-2 2v14c0 1.1.9 2 2 2h14c1.1 0 2-.9 2-2V5c0-1.1-.9-2-2-2zM9 17H7v-7h2v7zm4 0h-2V7h2v10zm4 0h-2v-4h2v4z\"/>\n",
              "    </g>\n",
              "</svg>\n",
              "  </button>\n",
              "\n",
              "<style>\n",
              "  .colab-df-quickchart {\n",
              "      --bg-color: #E8F0FE;\n",
              "      --fill-color: #1967D2;\n",
              "      --hover-bg-color: #E2EBFA;\n",
              "      --hover-fill-color: #174EA6;\n",
              "      --disabled-fill-color: #AAA;\n",
              "      --disabled-bg-color: #DDD;\n",
              "  }\n",
              "\n",
              "  [theme=dark] .colab-df-quickchart {\n",
              "      --bg-color: #3B4455;\n",
              "      --fill-color: #D2E3FC;\n",
              "      --hover-bg-color: #434B5C;\n",
              "      --hover-fill-color: #FFFFFF;\n",
              "      --disabled-bg-color: #3B4455;\n",
              "      --disabled-fill-color: #666;\n",
              "  }\n",
              "\n",
              "  .colab-df-quickchart {\n",
              "    background-color: var(--bg-color);\n",
              "    border: none;\n",
              "    border-radius: 50%;\n",
              "    cursor: pointer;\n",
              "    display: none;\n",
              "    fill: var(--fill-color);\n",
              "    height: 32px;\n",
              "    padding: 0;\n",
              "    width: 32px;\n",
              "  }\n",
              "\n",
              "  .colab-df-quickchart:hover {\n",
              "    background-color: var(--hover-bg-color);\n",
              "    box-shadow: 0 1px 2px rgba(60, 64, 67, 0.3), 0 1px 3px 1px rgba(60, 64, 67, 0.15);\n",
              "    fill: var(--button-hover-fill-color);\n",
              "  }\n",
              "\n",
              "  .colab-df-quickchart-complete:disabled,\n",
              "  .colab-df-quickchart-complete:disabled:hover {\n",
              "    background-color: var(--disabled-bg-color);\n",
              "    fill: var(--disabled-fill-color);\n",
              "    box-shadow: none;\n",
              "  }\n",
              "\n",
              "  .colab-df-spinner {\n",
              "    border: 2px solid var(--fill-color);\n",
              "    border-color: transparent;\n",
              "    border-bottom-color: var(--fill-color);\n",
              "    animation:\n",
              "      spin 1s steps(1) infinite;\n",
              "  }\n",
              "\n",
              "  @keyframes spin {\n",
              "    0% {\n",
              "      border-color: transparent;\n",
              "      border-bottom-color: var(--fill-color);\n",
              "      border-left-color: var(--fill-color);\n",
              "    }\n",
              "    20% {\n",
              "      border-color: transparent;\n",
              "      border-left-color: var(--fill-color);\n",
              "      border-top-color: var(--fill-color);\n",
              "    }\n",
              "    30% {\n",
              "      border-color: transparent;\n",
              "      border-left-color: var(--fill-color);\n",
              "      border-top-color: var(--fill-color);\n",
              "      border-right-color: var(--fill-color);\n",
              "    }\n",
              "    40% {\n",
              "      border-color: transparent;\n",
              "      border-right-color: var(--fill-color);\n",
              "      border-top-color: var(--fill-color);\n",
              "    }\n",
              "    60% {\n",
              "      border-color: transparent;\n",
              "      border-right-color: var(--fill-color);\n",
              "    }\n",
              "    80% {\n",
              "      border-color: transparent;\n",
              "      border-right-color: var(--fill-color);\n",
              "      border-bottom-color: var(--fill-color);\n",
              "    }\n",
              "    90% {\n",
              "      border-color: transparent;\n",
              "      border-bottom-color: var(--fill-color);\n",
              "    }\n",
              "  }\n",
              "</style>\n",
              "\n",
              "  <script>\n",
              "    async function quickchart(key) {\n",
              "      const quickchartButtonEl =\n",
              "        document.querySelector('#' + key + ' button');\n",
              "      quickchartButtonEl.disabled = true;  // To prevent multiple clicks.\n",
              "      quickchartButtonEl.classList.add('colab-df-spinner');\n",
              "      try {\n",
              "        const charts = await google.colab.kernel.invokeFunction(\n",
              "            'suggestCharts', [key], {});\n",
              "      } catch (error) {\n",
              "        console.error('Error during call to suggestCharts:', error);\n",
              "      }\n",
              "      quickchartButtonEl.classList.remove('colab-df-spinner');\n",
              "      quickchartButtonEl.classList.add('colab-df-quickchart-complete');\n",
              "    }\n",
              "    (() => {\n",
              "      let quickchartButtonEl =\n",
              "        document.querySelector('#df-e0a95d5b-b666-4714-a63f-d7e0a3f1c3fa button');\n",
              "      quickchartButtonEl.style.display =\n",
              "        google.colab.kernel.accessAllowed ? 'block' : 'none';\n",
              "    })();\n",
              "  </script>\n",
              "</div>\n",
              "\n",
              "    </div>\n",
              "  </div>\n"
            ],
            "application/vnd.google.colaboratory.intrinsic+json": {
              "type": "dataframe",
              "variable_name": "airport_codes",
              "summary": "{\n  \"name\": \"airport_codes\",\n  \"rows\": 6436,\n  \"fields\": [\n    {\n      \"column\": \"Code\",\n      \"properties\": {\n        \"dtype\": \"number\",\n        \"std\": 2232,\n        \"min\": 10001,\n        \"max\": 99999,\n        \"num_unique_values\": 6436,\n        \"samples\": [\n          16022,\n          13329,\n          10253\n        ],\n        \"semantic_type\": \"\",\n        \"description\": \"\"\n      }\n    },\n    {\n      \"column\": \"Description\",\n      \"properties\": {\n        \"dtype\": \"string\",\n        \"num_unique_values\": 6416,\n        \"samples\": [\n          \"Tuluksak, AK: Tuluksak Airport\",\n          \"47-Mile Mine, AK: 47-Mile Mine Airport\",\n          \"Collarenebri, Australia: Collarenebri Airport\"\n        ],\n        \"semantic_type\": \"\",\n        \"description\": \"\"\n      }\n    }\n  ]\n}"
            }
          },
          "metadata": {},
          "execution_count": 6
        }
      ],
      "source": [
        "airport_codes = pd.read_csv(\"{}{}\".format(DATA_PATH, 'L_AIRPORT_ID.csv'))\n",
        "airport_codes.head()"
      ]
    },
    {
      "cell_type": "markdown",
      "metadata": {
        "nbgrader": {
          "grade": false,
          "grade_id": "download_flight_segments_intro",
          "locked": true,
          "schema_version": 1,
          "solution": false
        },
        "id": "fLhqmImK5S2H"
      },
      "source": [
        "**Flight segments.** Next, let's load a file that contains all of US flights that were scheduled for August 2017."
      ]
    },
    {
      "cell_type": "code",
      "execution_count": 7,
      "metadata": {
        "collapsed": true,
        "nbgrader": {
          "grade": false,
          "grade_id": "flights",
          "locked": true,
          "schema_version": 1,
          "solution": false
        },
        "colab": {
          "base_uri": "https://localhost:8080/",
          "height": 244
        },
        "id": "8eg2LEz15S2H",
        "outputId": "fc27833e-d7a2-4d67-da77-fe7e6a7877a8"
      },
      "outputs": [
        {
          "output_type": "stream",
          "name": "stdout",
          "text": [
            "Number of flight segments: 510451 [0.5 million]\n"
          ]
        },
        {
          "output_type": "execute_result",
          "data": {
            "text/plain": [
              "      FL_DATE UNIQUE_CARRIER  FL_NUM  ORIGIN_AIRPORT_ID  \\\n",
              "0  2017-08-01             DL       2              12478   \n",
              "1  2017-08-01             DL       4              12889   \n",
              "2  2017-08-01             DL       6              12892   \n",
              "3  2017-08-01             DL       7              14869   \n",
              "4  2017-08-01             DL      10              11292   \n",
              "\n",
              "   ORIGIN_CITY_MARKET_ID  DEST_AIRPORT_ID  DEST_CITY_MARKET_ID  \n",
              "0                  31703            14679                33570  \n",
              "1                  32211            12478                31703  \n",
              "2                  32575            14869                34614  \n",
              "3                  34614            12892                32575  \n",
              "4                  30325            13487                31650  "
            ],
            "text/html": [
              "\n",
              "  <div id=\"df-5d52745a-c322-481c-9c8a-53e178374557\" class=\"colab-df-container\">\n",
              "    <div>\n",
              "<style scoped>\n",
              "    .dataframe tbody tr th:only-of-type {\n",
              "        vertical-align: middle;\n",
              "    }\n",
              "\n",
              "    .dataframe tbody tr th {\n",
              "        vertical-align: top;\n",
              "    }\n",
              "\n",
              "    .dataframe thead th {\n",
              "        text-align: right;\n",
              "    }\n",
              "</style>\n",
              "<table border=\"1\" class=\"dataframe\">\n",
              "  <thead>\n",
              "    <tr style=\"text-align: right;\">\n",
              "      <th></th>\n",
              "      <th>FL_DATE</th>\n",
              "      <th>UNIQUE_CARRIER</th>\n",
              "      <th>FL_NUM</th>\n",
              "      <th>ORIGIN_AIRPORT_ID</th>\n",
              "      <th>ORIGIN_CITY_MARKET_ID</th>\n",
              "      <th>DEST_AIRPORT_ID</th>\n",
              "      <th>DEST_CITY_MARKET_ID</th>\n",
              "    </tr>\n",
              "  </thead>\n",
              "  <tbody>\n",
              "    <tr>\n",
              "      <th>0</th>\n",
              "      <td>2017-08-01</td>\n",
              "      <td>DL</td>\n",
              "      <td>2</td>\n",
              "      <td>12478</td>\n",
              "      <td>31703</td>\n",
              "      <td>14679</td>\n",
              "      <td>33570</td>\n",
              "    </tr>\n",
              "    <tr>\n",
              "      <th>1</th>\n",
              "      <td>2017-08-01</td>\n",
              "      <td>DL</td>\n",
              "      <td>4</td>\n",
              "      <td>12889</td>\n",
              "      <td>32211</td>\n",
              "      <td>12478</td>\n",
              "      <td>31703</td>\n",
              "    </tr>\n",
              "    <tr>\n",
              "      <th>2</th>\n",
              "      <td>2017-08-01</td>\n",
              "      <td>DL</td>\n",
              "      <td>6</td>\n",
              "      <td>12892</td>\n",
              "      <td>32575</td>\n",
              "      <td>14869</td>\n",
              "      <td>34614</td>\n",
              "    </tr>\n",
              "    <tr>\n",
              "      <th>3</th>\n",
              "      <td>2017-08-01</td>\n",
              "      <td>DL</td>\n",
              "      <td>7</td>\n",
              "      <td>14869</td>\n",
              "      <td>34614</td>\n",
              "      <td>12892</td>\n",
              "      <td>32575</td>\n",
              "    </tr>\n",
              "    <tr>\n",
              "      <th>4</th>\n",
              "      <td>2017-08-01</td>\n",
              "      <td>DL</td>\n",
              "      <td>10</td>\n",
              "      <td>11292</td>\n",
              "      <td>30325</td>\n",
              "      <td>13487</td>\n",
              "      <td>31650</td>\n",
              "    </tr>\n",
              "  </tbody>\n",
              "</table>\n",
              "</div>\n",
              "    <div class=\"colab-df-buttons\">\n",
              "\n",
              "  <div class=\"colab-df-container\">\n",
              "    <button class=\"colab-df-convert\" onclick=\"convertToInteractive('df-5d52745a-c322-481c-9c8a-53e178374557')\"\n",
              "            title=\"Convert this dataframe to an interactive table.\"\n",
              "            style=\"display:none;\">\n",
              "\n",
              "  <svg xmlns=\"http://www.w3.org/2000/svg\" height=\"24px\" viewBox=\"0 -960 960 960\">\n",
              "    <path d=\"M120-120v-720h720v720H120Zm60-500h600v-160H180v160Zm220 220h160v-160H400v160Zm0 220h160v-160H400v160ZM180-400h160v-160H180v160Zm440 0h160v-160H620v160ZM180-180h160v-160H180v160Zm440 0h160v-160H620v160Z\"/>\n",
              "  </svg>\n",
              "    </button>\n",
              "\n",
              "  <style>\n",
              "    .colab-df-container {\n",
              "      display:flex;\n",
              "      gap: 12px;\n",
              "    }\n",
              "\n",
              "    .colab-df-convert {\n",
              "      background-color: #E8F0FE;\n",
              "      border: none;\n",
              "      border-radius: 50%;\n",
              "      cursor: pointer;\n",
              "      display: none;\n",
              "      fill: #1967D2;\n",
              "      height: 32px;\n",
              "      padding: 0 0 0 0;\n",
              "      width: 32px;\n",
              "    }\n",
              "\n",
              "    .colab-df-convert:hover {\n",
              "      background-color: #E2EBFA;\n",
              "      box-shadow: 0px 1px 2px rgba(60, 64, 67, 0.3), 0px 1px 3px 1px rgba(60, 64, 67, 0.15);\n",
              "      fill: #174EA6;\n",
              "    }\n",
              "\n",
              "    .colab-df-buttons div {\n",
              "      margin-bottom: 4px;\n",
              "    }\n",
              "\n",
              "    [theme=dark] .colab-df-convert {\n",
              "      background-color: #3B4455;\n",
              "      fill: #D2E3FC;\n",
              "    }\n",
              "\n",
              "    [theme=dark] .colab-df-convert:hover {\n",
              "      background-color: #434B5C;\n",
              "      box-shadow: 0px 1px 3px 1px rgba(0, 0, 0, 0.15);\n",
              "      filter: drop-shadow(0px 1px 2px rgba(0, 0, 0, 0.3));\n",
              "      fill: #FFFFFF;\n",
              "    }\n",
              "  </style>\n",
              "\n",
              "    <script>\n",
              "      const buttonEl =\n",
              "        document.querySelector('#df-5d52745a-c322-481c-9c8a-53e178374557 button.colab-df-convert');\n",
              "      buttonEl.style.display =\n",
              "        google.colab.kernel.accessAllowed ? 'block' : 'none';\n",
              "\n",
              "      async function convertToInteractive(key) {\n",
              "        const element = document.querySelector('#df-5d52745a-c322-481c-9c8a-53e178374557');\n",
              "        const dataTable =\n",
              "          await google.colab.kernel.invokeFunction('convertToInteractive',\n",
              "                                                    [key], {});\n",
              "        if (!dataTable) return;\n",
              "\n",
              "        const docLinkHtml = 'Like what you see? Visit the ' +\n",
              "          '<a target=\"_blank\" href=https://colab.research.google.com/notebooks/data_table.ipynb>data table notebook</a>'\n",
              "          + ' to learn more about interactive tables.';\n",
              "        element.innerHTML = '';\n",
              "        dataTable['output_type'] = 'display_data';\n",
              "        await google.colab.output.renderOutput(dataTable, element);\n",
              "        const docLink = document.createElement('div');\n",
              "        docLink.innerHTML = docLinkHtml;\n",
              "        element.appendChild(docLink);\n",
              "      }\n",
              "    </script>\n",
              "  </div>\n",
              "\n",
              "\n",
              "<div id=\"df-66d44a3e-3801-48fd-a660-726480c1cc60\">\n",
              "  <button class=\"colab-df-quickchart\" onclick=\"quickchart('df-66d44a3e-3801-48fd-a660-726480c1cc60')\"\n",
              "            title=\"Suggest charts\"\n",
              "            style=\"display:none;\">\n",
              "\n",
              "<svg xmlns=\"http://www.w3.org/2000/svg\" height=\"24px\"viewBox=\"0 0 24 24\"\n",
              "     width=\"24px\">\n",
              "    <g>\n",
              "        <path d=\"M19 3H5c-1.1 0-2 .9-2 2v14c0 1.1.9 2 2 2h14c1.1 0 2-.9 2-2V5c0-1.1-.9-2-2-2zM9 17H7v-7h2v7zm4 0h-2V7h2v10zm4 0h-2v-4h2v4z\"/>\n",
              "    </g>\n",
              "</svg>\n",
              "  </button>\n",
              "\n",
              "<style>\n",
              "  .colab-df-quickchart {\n",
              "      --bg-color: #E8F0FE;\n",
              "      --fill-color: #1967D2;\n",
              "      --hover-bg-color: #E2EBFA;\n",
              "      --hover-fill-color: #174EA6;\n",
              "      --disabled-fill-color: #AAA;\n",
              "      --disabled-bg-color: #DDD;\n",
              "  }\n",
              "\n",
              "  [theme=dark] .colab-df-quickchart {\n",
              "      --bg-color: #3B4455;\n",
              "      --fill-color: #D2E3FC;\n",
              "      --hover-bg-color: #434B5C;\n",
              "      --hover-fill-color: #FFFFFF;\n",
              "      --disabled-bg-color: #3B4455;\n",
              "      --disabled-fill-color: #666;\n",
              "  }\n",
              "\n",
              "  .colab-df-quickchart {\n",
              "    background-color: var(--bg-color);\n",
              "    border: none;\n",
              "    border-radius: 50%;\n",
              "    cursor: pointer;\n",
              "    display: none;\n",
              "    fill: var(--fill-color);\n",
              "    height: 32px;\n",
              "    padding: 0;\n",
              "    width: 32px;\n",
              "  }\n",
              "\n",
              "  .colab-df-quickchart:hover {\n",
              "    background-color: var(--hover-bg-color);\n",
              "    box-shadow: 0 1px 2px rgba(60, 64, 67, 0.3), 0 1px 3px 1px rgba(60, 64, 67, 0.15);\n",
              "    fill: var(--button-hover-fill-color);\n",
              "  }\n",
              "\n",
              "  .colab-df-quickchart-complete:disabled,\n",
              "  .colab-df-quickchart-complete:disabled:hover {\n",
              "    background-color: var(--disabled-bg-color);\n",
              "    fill: var(--disabled-fill-color);\n",
              "    box-shadow: none;\n",
              "  }\n",
              "\n",
              "  .colab-df-spinner {\n",
              "    border: 2px solid var(--fill-color);\n",
              "    border-color: transparent;\n",
              "    border-bottom-color: var(--fill-color);\n",
              "    animation:\n",
              "      spin 1s steps(1) infinite;\n",
              "  }\n",
              "\n",
              "  @keyframes spin {\n",
              "    0% {\n",
              "      border-color: transparent;\n",
              "      border-bottom-color: var(--fill-color);\n",
              "      border-left-color: var(--fill-color);\n",
              "    }\n",
              "    20% {\n",
              "      border-color: transparent;\n",
              "      border-left-color: var(--fill-color);\n",
              "      border-top-color: var(--fill-color);\n",
              "    }\n",
              "    30% {\n",
              "      border-color: transparent;\n",
              "      border-left-color: var(--fill-color);\n",
              "      border-top-color: var(--fill-color);\n",
              "      border-right-color: var(--fill-color);\n",
              "    }\n",
              "    40% {\n",
              "      border-color: transparent;\n",
              "      border-right-color: var(--fill-color);\n",
              "      border-top-color: var(--fill-color);\n",
              "    }\n",
              "    60% {\n",
              "      border-color: transparent;\n",
              "      border-right-color: var(--fill-color);\n",
              "    }\n",
              "    80% {\n",
              "      border-color: transparent;\n",
              "      border-right-color: var(--fill-color);\n",
              "      border-bottom-color: var(--fill-color);\n",
              "    }\n",
              "    90% {\n",
              "      border-color: transparent;\n",
              "      border-bottom-color: var(--fill-color);\n",
              "    }\n",
              "  }\n",
              "</style>\n",
              "\n",
              "  <script>\n",
              "    async function quickchart(key) {\n",
              "      const quickchartButtonEl =\n",
              "        document.querySelector('#' + key + ' button');\n",
              "      quickchartButtonEl.disabled = true;  // To prevent multiple clicks.\n",
              "      quickchartButtonEl.classList.add('colab-df-spinner');\n",
              "      try {\n",
              "        const charts = await google.colab.kernel.invokeFunction(\n",
              "            'suggestCharts', [key], {});\n",
              "      } catch (error) {\n",
              "        console.error('Error during call to suggestCharts:', error);\n",
              "      }\n",
              "      quickchartButtonEl.classList.remove('colab-df-spinner');\n",
              "      quickchartButtonEl.classList.add('colab-df-quickchart-complete');\n",
              "    }\n",
              "    (() => {\n",
              "      let quickchartButtonEl =\n",
              "        document.querySelector('#df-66d44a3e-3801-48fd-a660-726480c1cc60 button');\n",
              "      quickchartButtonEl.style.display =\n",
              "        google.colab.kernel.accessAllowed ? 'block' : 'none';\n",
              "    })();\n",
              "  </script>\n",
              "</div>\n",
              "\n",
              "    </div>\n",
              "  </div>\n"
            ],
            "application/vnd.google.colaboratory.intrinsic+json": {
              "type": "dataframe",
              "variable_name": "flights"
            }
          },
          "metadata": {},
          "execution_count": 7
        }
      ],
      "source": [
        "flights = pd.read_csv('{}{}'.format(DATA_PATH, 'us-flights--2017-08.csv'))\n",
        "print(\"Number of flight segments: {} [{:.1f} million]\".format (len(flights), len(flights)*1e-6))\n",
        "del flights['Unnamed: 7'] # Cleanup extraneous column\n",
        "flights.head()"
      ]
    },
    {
      "cell_type": "markdown",
      "metadata": {
        "nbgrader": {
          "grade": false,
          "grade_id": "download_time_range",
          "locked": true,
          "schema_version": 1,
          "solution": false
        },
        "id": "FjHygZQX5S2H"
      },
      "source": [
        "Each row of this tibble is a _(direct) flight segment_, that is, a flight that left some origin and arrived at a destination on a certain date. As noted earlier, these segments cover a one-month period (August 2017)."
      ]
    },
    {
      "cell_type": "markdown",
      "metadata": {
        "id": "yMclPiej5S2H"
      },
      "source": [
        "**Exercise 0** (3 points). As a warmup to familiarize yourself with this dataset, determine all direct flight segments that originated at Atlanta's Hartsfield-Jackson International Airport and traveled to Los Angeles International. Store the result in a dataframe named `flights_atl_to_lax`, which should be the corresponding subset of rows from `flights`."
      ]
    },
    {
      "cell_type": "code",
      "execution_count": 11,
      "metadata": {
        "collapsed": true,
        "nbgrader": {
          "grade": false,
          "grade_id": "flights_atl_to_lax",
          "locked": false,
          "schema_version": 1,
          "solution": true
        },
        "colab": {
          "base_uri": "https://localhost:8080/",
          "height": 351
        },
        "id": "t8rf2Tkn5S2I",
        "outputId": "d83c4004-d5f6-4836-e656-94077ff9a2c4"
      },
      "outputs": [
        {
          "output_type": "execute_result",
          "data": {
            "text/plain": [
              "       Code                                        Description\n",
              "142   10158     Atlantic City, NJ: Atlantic City International\n",
              "208   10227                     Atlantic City, NJ: Bader Field\n",
              "373   10397  Atlanta, GA: Hartsfield-Jackson Atlanta Intern...\n",
              "1717  11790     Atlanta, GA: Fulton County Airport-Brown Field\n",
              "1762  11838                  Atlanta, GA: Newnan Coweta County\n",
              "2350  12445                Atlanta, GA: Perimeter Mall Helipad\n",
              "2354  12449                           Atlanta, GA: Beaver Ruin\n",
              "2387  12485                              Atlanta, GA: Galleria\n",
              "3885  14050                      Atlanta, GA: Dekalb Peachtree"
            ],
            "text/html": [
              "\n",
              "  <div id=\"df-471669f9-973d-436b-8176-210ec13b2c06\" class=\"colab-df-container\">\n",
              "    <div>\n",
              "<style scoped>\n",
              "    .dataframe tbody tr th:only-of-type {\n",
              "        vertical-align: middle;\n",
              "    }\n",
              "\n",
              "    .dataframe tbody tr th {\n",
              "        vertical-align: top;\n",
              "    }\n",
              "\n",
              "    .dataframe thead th {\n",
              "        text-align: right;\n",
              "    }\n",
              "</style>\n",
              "<table border=\"1\" class=\"dataframe\">\n",
              "  <thead>\n",
              "    <tr style=\"text-align: right;\">\n",
              "      <th></th>\n",
              "      <th>Code</th>\n",
              "      <th>Description</th>\n",
              "    </tr>\n",
              "  </thead>\n",
              "  <tbody>\n",
              "    <tr>\n",
              "      <th>142</th>\n",
              "      <td>10158</td>\n",
              "      <td>Atlantic City, NJ: Atlantic City International</td>\n",
              "    </tr>\n",
              "    <tr>\n",
              "      <th>208</th>\n",
              "      <td>10227</td>\n",
              "      <td>Atlantic City, NJ: Bader Field</td>\n",
              "    </tr>\n",
              "    <tr>\n",
              "      <th>373</th>\n",
              "      <td>10397</td>\n",
              "      <td>Atlanta, GA: Hartsfield-Jackson Atlanta Intern...</td>\n",
              "    </tr>\n",
              "    <tr>\n",
              "      <th>1717</th>\n",
              "      <td>11790</td>\n",
              "      <td>Atlanta, GA: Fulton County Airport-Brown Field</td>\n",
              "    </tr>\n",
              "    <tr>\n",
              "      <th>1762</th>\n",
              "      <td>11838</td>\n",
              "      <td>Atlanta, GA: Newnan Coweta County</td>\n",
              "    </tr>\n",
              "    <tr>\n",
              "      <th>2350</th>\n",
              "      <td>12445</td>\n",
              "      <td>Atlanta, GA: Perimeter Mall Helipad</td>\n",
              "    </tr>\n",
              "    <tr>\n",
              "      <th>2354</th>\n",
              "      <td>12449</td>\n",
              "      <td>Atlanta, GA: Beaver Ruin</td>\n",
              "    </tr>\n",
              "    <tr>\n",
              "      <th>2387</th>\n",
              "      <td>12485</td>\n",
              "      <td>Atlanta, GA: Galleria</td>\n",
              "    </tr>\n",
              "    <tr>\n",
              "      <th>3885</th>\n",
              "      <td>14050</td>\n",
              "      <td>Atlanta, GA: Dekalb Peachtree</td>\n",
              "    </tr>\n",
              "  </tbody>\n",
              "</table>\n",
              "</div>\n",
              "    <div class=\"colab-df-buttons\">\n",
              "\n",
              "  <div class=\"colab-df-container\">\n",
              "    <button class=\"colab-df-convert\" onclick=\"convertToInteractive('df-471669f9-973d-436b-8176-210ec13b2c06')\"\n",
              "            title=\"Convert this dataframe to an interactive table.\"\n",
              "            style=\"display:none;\">\n",
              "\n",
              "  <svg xmlns=\"http://www.w3.org/2000/svg\" height=\"24px\" viewBox=\"0 -960 960 960\">\n",
              "    <path d=\"M120-120v-720h720v720H120Zm60-500h600v-160H180v160Zm220 220h160v-160H400v160Zm0 220h160v-160H400v160ZM180-400h160v-160H180v160Zm440 0h160v-160H620v160ZM180-180h160v-160H180v160Zm440 0h160v-160H620v160Z\"/>\n",
              "  </svg>\n",
              "    </button>\n",
              "\n",
              "  <style>\n",
              "    .colab-df-container {\n",
              "      display:flex;\n",
              "      gap: 12px;\n",
              "    }\n",
              "\n",
              "    .colab-df-convert {\n",
              "      background-color: #E8F0FE;\n",
              "      border: none;\n",
              "      border-radius: 50%;\n",
              "      cursor: pointer;\n",
              "      display: none;\n",
              "      fill: #1967D2;\n",
              "      height: 32px;\n",
              "      padding: 0 0 0 0;\n",
              "      width: 32px;\n",
              "    }\n",
              "\n",
              "    .colab-df-convert:hover {\n",
              "      background-color: #E2EBFA;\n",
              "      box-shadow: 0px 1px 2px rgba(60, 64, 67, 0.3), 0px 1px 3px 1px rgba(60, 64, 67, 0.15);\n",
              "      fill: #174EA6;\n",
              "    }\n",
              "\n",
              "    .colab-df-buttons div {\n",
              "      margin-bottom: 4px;\n",
              "    }\n",
              "\n",
              "    [theme=dark] .colab-df-convert {\n",
              "      background-color: #3B4455;\n",
              "      fill: #D2E3FC;\n",
              "    }\n",
              "\n",
              "    [theme=dark] .colab-df-convert:hover {\n",
              "      background-color: #434B5C;\n",
              "      box-shadow: 0px 1px 3px 1px rgba(0, 0, 0, 0.15);\n",
              "      filter: drop-shadow(0px 1px 2px rgba(0, 0, 0, 0.3));\n",
              "      fill: #FFFFFF;\n",
              "    }\n",
              "  </style>\n",
              "\n",
              "    <script>\n",
              "      const buttonEl =\n",
              "        document.querySelector('#df-471669f9-973d-436b-8176-210ec13b2c06 button.colab-df-convert');\n",
              "      buttonEl.style.display =\n",
              "        google.colab.kernel.accessAllowed ? 'block' : 'none';\n",
              "\n",
              "      async function convertToInteractive(key) {\n",
              "        const element = document.querySelector('#df-471669f9-973d-436b-8176-210ec13b2c06');\n",
              "        const dataTable =\n",
              "          await google.colab.kernel.invokeFunction('convertToInteractive',\n",
              "                                                    [key], {});\n",
              "        if (!dataTable) return;\n",
              "\n",
              "        const docLinkHtml = 'Like what you see? Visit the ' +\n",
              "          '<a target=\"_blank\" href=https://colab.research.google.com/notebooks/data_table.ipynb>data table notebook</a>'\n",
              "          + ' to learn more about interactive tables.';\n",
              "        element.innerHTML = '';\n",
              "        dataTable['output_type'] = 'display_data';\n",
              "        await google.colab.output.renderOutput(dataTable, element);\n",
              "        const docLink = document.createElement('div');\n",
              "        docLink.innerHTML = docLinkHtml;\n",
              "        element.appendChild(docLink);\n",
              "      }\n",
              "    </script>\n",
              "  </div>\n",
              "\n",
              "\n",
              "<div id=\"df-5c8ed9aa-5d9a-43a2-bb57-8b9aea8c3434\">\n",
              "  <button class=\"colab-df-quickchart\" onclick=\"quickchart('df-5c8ed9aa-5d9a-43a2-bb57-8b9aea8c3434')\"\n",
              "            title=\"Suggest charts\"\n",
              "            style=\"display:none;\">\n",
              "\n",
              "<svg xmlns=\"http://www.w3.org/2000/svg\" height=\"24px\"viewBox=\"0 0 24 24\"\n",
              "     width=\"24px\">\n",
              "    <g>\n",
              "        <path d=\"M19 3H5c-1.1 0-2 .9-2 2v14c0 1.1.9 2 2 2h14c1.1 0 2-.9 2-2V5c0-1.1-.9-2-2-2zM9 17H7v-7h2v7zm4 0h-2V7h2v10zm4 0h-2v-4h2v4z\"/>\n",
              "    </g>\n",
              "</svg>\n",
              "  </button>\n",
              "\n",
              "<style>\n",
              "  .colab-df-quickchart {\n",
              "      --bg-color: #E8F0FE;\n",
              "      --fill-color: #1967D2;\n",
              "      --hover-bg-color: #E2EBFA;\n",
              "      --hover-fill-color: #174EA6;\n",
              "      --disabled-fill-color: #AAA;\n",
              "      --disabled-bg-color: #DDD;\n",
              "  }\n",
              "\n",
              "  [theme=dark] .colab-df-quickchart {\n",
              "      --bg-color: #3B4455;\n",
              "      --fill-color: #D2E3FC;\n",
              "      --hover-bg-color: #434B5C;\n",
              "      --hover-fill-color: #FFFFFF;\n",
              "      --disabled-bg-color: #3B4455;\n",
              "      --disabled-fill-color: #666;\n",
              "  }\n",
              "\n",
              "  .colab-df-quickchart {\n",
              "    background-color: var(--bg-color);\n",
              "    border: none;\n",
              "    border-radius: 50%;\n",
              "    cursor: pointer;\n",
              "    display: none;\n",
              "    fill: var(--fill-color);\n",
              "    height: 32px;\n",
              "    padding: 0;\n",
              "    width: 32px;\n",
              "  }\n",
              "\n",
              "  .colab-df-quickchart:hover {\n",
              "    background-color: var(--hover-bg-color);\n",
              "    box-shadow: 0 1px 2px rgba(60, 64, 67, 0.3), 0 1px 3px 1px rgba(60, 64, 67, 0.15);\n",
              "    fill: var(--button-hover-fill-color);\n",
              "  }\n",
              "\n",
              "  .colab-df-quickchart-complete:disabled,\n",
              "  .colab-df-quickchart-complete:disabled:hover {\n",
              "    background-color: var(--disabled-bg-color);\n",
              "    fill: var(--disabled-fill-color);\n",
              "    box-shadow: none;\n",
              "  }\n",
              "\n",
              "  .colab-df-spinner {\n",
              "    border: 2px solid var(--fill-color);\n",
              "    border-color: transparent;\n",
              "    border-bottom-color: var(--fill-color);\n",
              "    animation:\n",
              "      spin 1s steps(1) infinite;\n",
              "  }\n",
              "\n",
              "  @keyframes spin {\n",
              "    0% {\n",
              "      border-color: transparent;\n",
              "      border-bottom-color: var(--fill-color);\n",
              "      border-left-color: var(--fill-color);\n",
              "    }\n",
              "    20% {\n",
              "      border-color: transparent;\n",
              "      border-left-color: var(--fill-color);\n",
              "      border-top-color: var(--fill-color);\n",
              "    }\n",
              "    30% {\n",
              "      border-color: transparent;\n",
              "      border-left-color: var(--fill-color);\n",
              "      border-top-color: var(--fill-color);\n",
              "      border-right-color: var(--fill-color);\n",
              "    }\n",
              "    40% {\n",
              "      border-color: transparent;\n",
              "      border-right-color: var(--fill-color);\n",
              "      border-top-color: var(--fill-color);\n",
              "    }\n",
              "    60% {\n",
              "      border-color: transparent;\n",
              "      border-right-color: var(--fill-color);\n",
              "    }\n",
              "    80% {\n",
              "      border-color: transparent;\n",
              "      border-right-color: var(--fill-color);\n",
              "      border-bottom-color: var(--fill-color);\n",
              "    }\n",
              "    90% {\n",
              "      border-color: transparent;\n",
              "      border-bottom-color: var(--fill-color);\n",
              "    }\n",
              "  }\n",
              "</style>\n",
              "\n",
              "  <script>\n",
              "    async function quickchart(key) {\n",
              "      const quickchartButtonEl =\n",
              "        document.querySelector('#' + key + ' button');\n",
              "      quickchartButtonEl.disabled = true;  // To prevent multiple clicks.\n",
              "      quickchartButtonEl.classList.add('colab-df-spinner');\n",
              "      try {\n",
              "        const charts = await google.colab.kernel.invokeFunction(\n",
              "            'suggestCharts', [key], {});\n",
              "      } catch (error) {\n",
              "        console.error('Error during call to suggestCharts:', error);\n",
              "      }\n",
              "      quickchartButtonEl.classList.remove('colab-df-spinner');\n",
              "      quickchartButtonEl.classList.add('colab-df-quickchart-complete');\n",
              "    }\n",
              "    (() => {\n",
              "      let quickchartButtonEl =\n",
              "        document.querySelector('#df-5c8ed9aa-5d9a-43a2-bb57-8b9aea8c3434 button');\n",
              "      quickchartButtonEl.style.display =\n",
              "        google.colab.kernel.accessAllowed ? 'block' : 'none';\n",
              "    })();\n",
              "  </script>\n",
              "</div>\n",
              "\n",
              "    </div>\n",
              "  </div>\n"
            ],
            "application/vnd.google.colaboratory.intrinsic+json": {
              "type": "dataframe",
              "summary": "{\n  \"name\": \"# display(flights_atl_to_lax\",\n  \"rows\": 9,\n  \"fields\": [\n    {\n      \"column\": \"Code\",\n      \"properties\": {\n        \"dtype\": \"number\",\n        \"std\": 1298,\n        \"min\": 10158,\n        \"max\": 14050,\n        \"num_unique_values\": 9,\n        \"samples\": [\n          12485,\n          10227,\n          12445\n        ],\n        \"semantic_type\": \"\",\n        \"description\": \"\"\n      }\n    },\n    {\n      \"column\": \"Description\",\n      \"properties\": {\n        \"dtype\": \"string\",\n        \"num_unique_values\": 9,\n        \"samples\": [\n          \"Atlanta, GA: Galleria\",\n          \"Atlantic City, NJ: Bader Field\",\n          \"Atlanta, GA: Perimeter Mall Helipad\"\n        ],\n        \"semantic_type\": \"\",\n        \"description\": \"\"\n      }\n    }\n  ]\n}"
            }
          },
          "metadata": {},
          "execution_count": 11
        }
      ],
      "source": [
        "#\n",
        "# YOUR CODE HERE\n",
        "airport_codes[airport_codes['Description'].str.startswith('Atl')]\n",
        "##Code 10397 Atlanta, GA: Hartsfield-Jackson Atlanta Intern...\n",
        "#\n",
        "\n",
        "# # Displays a few of your results\n",
        "# print(\"Your code found {} flight segments.\".format(len(flights_atl_to_lax)))\n",
        "# display(flights_atl_to_lax.head())"
      ]
    },
    {
      "cell_type": "code",
      "execution_count": null,
      "metadata": {
        "collapsed": true,
        "nbgrader": {
          "grade": true,
          "grade_id": "flights_atl_to_lax_test",
          "locked": true,
          "points": 3,
          "schema_version": 1,
          "solution": false
        },
        "id": "ZVcSwQcf5S2I"
      },
      "outputs": [],
      "source": [
        "# Test cell: `flights_atl_to_lax_test`\n",
        "\n",
        "if False:\n",
        "    flights_atl_to_lax.to_csv('flights_atl_to_lax_soln.csv', index=False)\n",
        "flights_atl_to_lax_soln = pd.read_csv('{}{}'.format(DATA_PATH, 'flights_atl_to_lax_soln.csv'))\n",
        "\n",
        "assert tibbles_are_equivalent(flights_atl_to_lax, flights_atl_to_lax_soln), \\\n",
        "       \"Sorry, your solution does not match the instructor's solution.\"\n",
        "\n",
        "print(\"\\n(Passed!)\")"
      ]
    },
    {
      "cell_type": "markdown",
      "metadata": {
        "nbgrader": {
          "grade": false,
          "grade_id": "download_aggregation",
          "locked": true,
          "schema_version": 1,
          "solution": false
        },
        "id": "TvG1FE8h5S2J"
      },
      "source": [
        "**Aggregation.** Observe that an (origin, destination) pair may appear many times. That's because the dataset includes a row for _every_ direct flight that occurred historically and there may have been multiple such flights on a given day.\n",
        "\n",
        "However, for the purpose of this analysis, let's simplify the problem by collapsing _all_ historical segments $i \\rightarrow j$ into a single segment. Let's also do so in a way that preserves the number of times the segment occurred (i.e., the number of rows containing the segment)."
      ]
    },
    {
      "cell_type": "markdown",
      "metadata": {
        "nbgrader": {
          "grade": false,
          "grade_id": "download_outline_agg_task",
          "locked": true,
          "schema_version": 1,
          "solution": false
        },
        "id": "vIAew5bO5S2J"
      },
      "source": [
        "To accomplish this task, the following code cell uses the [`groupby()`](http://pandas.pydata.org/pandas-docs/stable/generated/pandas.DataFrame.groupby.html) function available for Pandas tables and the [`count()`](http://pandas.pydata.org/pandas-docs/stable/groupby.html) aggregator in three steps:\n",
        "\n",
        "1. It considers just the flight date, origin, and destination columns.\n",
        "2. It _logically_ groups the rows having the same origin and destination, using `groupby()`.\n",
        "3. It then aggregates the rows, counting the number of rows in each (origin, destination) group."
      ]
    },
    {
      "cell_type": "code",
      "execution_count": null,
      "metadata": {
        "collapsed": true,
        "nbgrader": {
          "grade": false,
          "grade_id": "segments",
          "locked": true,
          "schema_version": 1,
          "solution": false
        },
        "id": "idLOBVIS5S2J"
      },
      "outputs": [],
      "source": [
        "flights_cols_subset = flights[['FL_DATE', 'ORIGIN_AIRPORT_ID', 'DEST_AIRPORT_ID']]\n",
        "segment_groups = flights_cols_subset.groupby(['ORIGIN_AIRPORT_ID', 'DEST_AIRPORT_ID'], as_index=False)\n",
        "segments = segment_groups.count()\n",
        "segments.rename(columns={'FL_DATE': 'FL_COUNT'}, inplace=True)\n",
        "segments.head()"
      ]
    },
    {
      "cell_type": "markdown",
      "metadata": {
        "nbgrader": {
          "grade": false,
          "grade_id": "download_segments_sanity",
          "locked": true,
          "schema_version": 1,
          "solution": false
        },
        "id": "C3Qr2cpb5S2K"
      },
      "source": [
        "As a last sanity check, let's verify that the counts are all at least 1."
      ]
    },
    {
      "cell_type": "code",
      "execution_count": null,
      "metadata": {
        "collapsed": true,
        "nbgrader": {
          "grade": false,
          "grade_id": "segments_check_counts",
          "locked": true,
          "schema_version": 1,
          "solution": false
        },
        "id": "XGshpg135S2K"
      },
      "outputs": [],
      "source": [
        "assert (segments['FL_COUNT'] > 0).all()"
      ]
    },
    {
      "cell_type": "markdown",
      "metadata": {
        "nbgrader": {
          "grade": false,
          "grade_id": "download_actual_intro",
          "locked": true,
          "schema_version": 1,
          "solution": false
        },
        "id": "rdjk4pP_5S2K"
      },
      "source": [
        "**Actual (as opposed to \"all possible\") origins and destinations.** Although there are many possible airport codes stored in the `airport_codes` dataframe (over six thousand), only a subset appear as actual origins in the data. The following code cell determines the actual origins and prints their number."
      ]
    },
    {
      "cell_type": "code",
      "execution_count": null,
      "metadata": {
        "collapsed": true,
        "nbgrader": {
          "grade": false,
          "grade_id": "origins",
          "locked": true,
          "schema_version": 1,
          "solution": false
        },
        "id": "pUx15rGO5S2L"
      },
      "outputs": [],
      "source": [
        "origins = segments[['ORIGIN_AIRPORT_ID', 'FL_COUNT']].groupby('ORIGIN_AIRPORT_ID', as_index=False).sum()\n",
        "origins.rename(columns={'FL_COUNT': 'ORIGIN_COUNT'}, inplace=True)\n",
        "print(\"Number of actual origins:\", len(origins))\n",
        "origins.head()"
      ]
    },
    {
      "cell_type": "markdown",
      "metadata": {
        "nbgrader": {
          "grade": false,
          "grade_id": "download_rank_intro",
          "locked": true,
          "schema_version": 1,
          "solution": false
        },
        "id": "MQ2TAxAU5S2L"
      },
      "source": [
        "To get an idea of what airports are likely to be the most important in our Markov chain analysis, let's rank airports by the total number of _outgoing_ segments, i.e., flight segments that originate at the airport."
      ]
    },
    {
      "cell_type": "markdown",
      "metadata": {
        "nbgrader": {
          "grade": false,
          "grade_id": "exericse_1",
          "locked": true,
          "schema_version": 1,
          "solution": false
        },
        "id": "bgtIrVd15S2L"
      },
      "source": [
        "**Exercise 1** (3 points). Construct a dataframe, `origins_top10`, containing the top 10 airports in descending order of outgoing segments. This dataframe should have three columns:\n",
        "\n",
        "* `ID`: The ID of the airport\n",
        "* `Count`: Number of outgoing segments.\n",
        "* `Description`: The plaintext descriptor for the airport that comes from the `airport_codes` dataframe.\n",
        "\n",
        "> _Hint_: Look up and read about `numpy.argsort()`, which you can also apply to any Pandas Series object."
      ]
    },
    {
      "cell_type": "code",
      "execution_count": null,
      "metadata": {
        "collapsed": true,
        "nbgrader": {
          "grade": false,
          "grade_id": "origin_ranks",
          "locked": false,
          "schema_version": 1,
          "solution": true
        },
        "id": "EClqSIPx5S2L"
      },
      "outputs": [],
      "source": [
        "#\n",
        "# YOUR CODE HERE\n",
        "#\n",
        "\n",
        "# Prints the top 10, according to your calculation:\n",
        "origins_top10"
      ]
    },
    {
      "cell_type": "code",
      "execution_count": null,
      "metadata": {
        "collapsed": true,
        "nbgrader": {
          "grade": true,
          "grade_id": "origin_ranks_test",
          "locked": true,
          "points": 3,
          "schema_version": 1,
          "solution": false
        },
        "id": "lN4xWYfy5S2L"
      },
      "outputs": [],
      "source": [
        "# Test cell: `origin_ranks_test`\n",
        "\n",
        "if False:\n",
        "    origins_top10.to_csv('origins_top10_soln.csv', index=False)\n",
        "origins_top10_soln = pd.read_csv('{}{}'.format(DATA_PATH, 'origins_top10_soln.csv'))\n",
        "\n",
        "print(\"=== Instructor's solution ===\")\n",
        "display(origins_top10_soln)\n",
        "\n",
        "assert tibbles_are_equivalent(origins_top10, origins_top10_soln), \\\n",
        "       \"Your table does not have the same entries as the solution.\"\n",
        "\n",
        "counts_0_9 = origins_top10['Count'].iloc[:9].values\n",
        "counts_1_10 = origins_top10['Count'].iloc[1:].values\n",
        "assert (counts_0_9 >= counts_1_10).all(), \\\n",
        "       \"Are your rows sorted in descending order?\"\n",
        "\n",
        "print(\"\\n(Passed!)\")"
      ]
    },
    {
      "cell_type": "markdown",
      "metadata": {
        "nbgrader": {
          "grade": false,
          "grade_id": "exercise_2",
          "locked": true,
          "schema_version": 1,
          "solution": false
        },
        "id": "hmdjun8C5S2M"
      },
      "source": [
        "**Exercise 2** (2 points). The preceding code computed a tibble, `origins`, containing all the unique origins and their number of outgoing flights. Write some code to compute a new tibble, `dests`, which contains all unique destinations and their number of _incoming_ flights. Its columns should be named `DEST_AIRPORT_ID` (airport code) and `DEST_COUNT` (number of direct inbound segments).\n",
        "\n",
        "The test cell that follows prints the number of unique destinations and the first few rows of your result, as well as some automatic checks."
      ]
    },
    {
      "cell_type": "code",
      "execution_count": null,
      "metadata": {
        "collapsed": true,
        "nbgrader": {
          "grade": false,
          "grade_id": "dests",
          "locked": false,
          "schema_version": 1,
          "solution": true
        },
        "id": "eE8ba-325S2M"
      },
      "outputs": [],
      "source": [
        "#\n",
        "# YOUR CODE HERE\n",
        "#\n",
        "\n",
        "print(\"Number of unique destinations:\", len(dests))\n",
        "dests.head()"
      ]
    },
    {
      "cell_type": "code",
      "execution_count": null,
      "metadata": {
        "collapsed": true,
        "nbgrader": {
          "grade": true,
          "grade_id": "dests_test",
          "locked": true,
          "points": 2,
          "schema_version": 1,
          "solution": false
        },
        "id": "lgZfi1Rp5S2M"
      },
      "outputs": [],
      "source": [
        "# Test cell: `dests_test`\n",
        "\n",
        "if False:\n",
        "    dests.to_csv('dests_soln.csv', index=False)\n",
        "dests_soln = pd.read_csv('{}{}'.format(DATA_PATH, 'dests_soln.csv'))\n",
        "\n",
        "assert tibbles_are_equivalent(dests, dests_soln), \"Your solution does not match the instructors'.\"\n",
        "\n",
        "print(\"\\n(Passed!)\")"
      ]
    },
    {
      "cell_type": "markdown",
      "metadata": {
        "nbgrader": {
          "grade": false,
          "grade_id": "exercise_3",
          "locked": true,
          "schema_version": 1,
          "solution": false
        },
        "id": "X0UOo-XJ5S2M"
      },
      "source": [
        "**Exercise 3** (2 points). Compute a tibble, `dests_top10`, containing the top 10 destinations (i.e., rows of `dests`) by inbound flight count. The column names should be the same as `origins_top10` and the rows should be sorted in decreasing order by count."
      ]
    },
    {
      "cell_type": "code",
      "execution_count": null,
      "metadata": {
        "collapsed": true,
        "nbgrader": {
          "grade": false,
          "grade_id": "dests_top10",
          "locked": false,
          "schema_version": 1,
          "solution": true
        },
        "id": "fnPeZNsy5S2O"
      },
      "outputs": [],
      "source": [
        "#\n",
        "# YOUR CODE HERE\n",
        "#\n",
        "\n",
        "print(\"Your computed top 10 destinations:\")\n",
        "dests_top10"
      ]
    },
    {
      "cell_type": "code",
      "execution_count": null,
      "metadata": {
        "collapsed": true,
        "nbgrader": {
          "grade": true,
          "grade_id": "dests_top10_test",
          "locked": true,
          "points": 2,
          "schema_version": 1,
          "solution": false
        },
        "id": "nFMtjsT15S2O"
      },
      "outputs": [],
      "source": [
        "# Test cell: `dests_top10_test`\n",
        "\n",
        "if False:\n",
        "    dests_top10.to_csv('dests_top10_soln.csv', index=False)\n",
        "dests_top10_soln = pd.read_csv('{}{}'.format(DATA_PATH, 'dests_top10_soln.csv'))\n",
        "\n",
        "print(\"=== Instructor's solution ===\")\n",
        "display(dests_top10_soln)\n",
        "\n",
        "assert tibbles_are_equivalent(dests_top10, dests_top10_soln), \\\n",
        "       \"Your table does not have the same entries as the solution.\"\n",
        "\n",
        "counts_0_9 = dests_top10['Count'].iloc[:9].values\n",
        "counts_1_10 = dests_top10['Count'].iloc[1:].values\n",
        "assert (counts_0_9 >= counts_1_10).all(), \\\n",
        "       \"Are your rows sorted in descending order?\"\n",
        "\n",
        "print(\"\\n(Passed!)\")"
      ]
    },
    {
      "cell_type": "markdown",
      "metadata": {
        "nbgrader": {
          "grade": false,
          "grade_id": "n_actual_intro",
          "locked": true,
          "schema_version": 1,
          "solution": false
        },
        "id": "f25yYgrE5S2O"
      },
      "source": [
        "The number of actual origins does equal the number of actual destinations. Let's store this value for later use."
      ]
    },
    {
      "cell_type": "code",
      "execution_count": null,
      "metadata": {
        "collapsed": true,
        "nbgrader": {
          "grade": false,
          "grade_id": "n_actual",
          "locked": true,
          "schema_version": 1,
          "solution": false
        },
        "id": "bWdloXE-5S2O"
      },
      "outputs": [],
      "source": [
        "n_actual = len(set(origins['ORIGIN_AIRPORT_ID']) | set(dests['DEST_AIRPORT_ID']))\n",
        "print(\"Number of actual locations (whether origin or destination):\", n_actual)"
      ]
    },
    {
      "cell_type": "markdown",
      "metadata": {
        "nbgrader": {
          "grade": false,
          "grade_id": "preprocess_intro",
          "locked": true,
          "schema_version": 1,
          "solution": false
        },
        "id": "SEncpw685S2O"
      },
      "source": [
        "## Part 1: Constructing the state-transition matrix\n",
        "\n",
        "Now that you have cleaned up the data, let's prepare it for subsequent analysis. Start by constructing the _probability state-transition matrix_ for the airport network. Denote this matrix by $P \\equiv [p_{ij}]$, where $p_{ij}$ is the conditional probability that a random flyer departs from airport $i$ and arrives at airport $j$ given that he or she is currently at airport $i$."
      ]
    },
    {
      "cell_type": "markdown",
      "metadata": {
        "nbgrader": {
          "grade": false,
          "grade_id": "preprocess_outline_tasks",
          "locked": true,
          "schema_version": 1,
          "solution": false
        },
        "id": "EP_2-0k95S2P"
      },
      "source": [
        "To build $P$, let's use SciPy's sparse matrix facilities. To do so, you will need to carry out the following two steps:\n",
        "\n",
        "1. _Map airport codes to matrix indices._ An `m`-by-`n` sparse matrix in SciPy uses the zero-based values 0, 1, ..., `m`-1 and 0, ..., `n`-1 to refer to row and column indices. Therefore, you will need to map the airport codes to such index values.\n",
        "2. _Derive weights, $p_{ij}$._ You will need to decide how to determine $p_{ij}$.\n",
        "\n",
        "Let's walk through each of these steps next."
      ]
    },
    {
      "cell_type": "markdown",
      "metadata": {
        "nbgrader": {
          "grade": false,
          "grade_id": "preprocess_step_1",
          "locked": true,
          "schema_version": 1,
          "solution": false
        },
        "id": "p3FQKpes5S2P"
      },
      "source": [
        "**Step 1: Mapping airport codes to integers.** Luckily, you already have a code-to-integer mapping, which is in the column `airport_codes['Code']` mapped to the dataframe's `index`.\n",
        "\n",
        "As a first step, let's make note of the number of airports, which is nothing more than the largest index value."
      ]
    },
    {
      "cell_type": "code",
      "execution_count": null,
      "metadata": {
        "collapsed": true,
        "nbgrader": {
          "grade": false,
          "grade_id": "n_airports",
          "locked": true,
          "schema_version": 1,
          "solution": false
        },
        "id": "NJYw0vUD5S2P"
      },
      "outputs": [],
      "source": [
        "n_airports = airport_codes.index.max() + 1\n",
        "print(\"Note: There are\", n_airports, \"airports.\")"
      ]
    },
    {
      "cell_type": "markdown",
      "metadata": {
        "nbgrader": {
          "grade": false,
          "grade_id": "preprocess_add_origin_id",
          "locked": true,
          "schema_version": 1,
          "solution": false
        },
        "id": "DAwvEj_15S2P"
      },
      "source": [
        "Next, let's add another column to `segments` called `ORIGIN_INDEX`, which will hold the id corresponding to the origin:"
      ]
    },
    {
      "cell_type": "code",
      "execution_count": null,
      "metadata": {
        "collapsed": true,
        "id": "Av8FeW0l5S2Q"
      },
      "outputs": [],
      "source": [
        "# Recall:\n",
        "segments.columns"
      ]
    },
    {
      "cell_type": "code",
      "execution_count": null,
      "metadata": {
        "collapsed": true,
        "nbgrader": {
          "grade": false,
          "grade_id": "origin_ids",
          "locked": true,
          "schema_version": 1,
          "solution": false
        },
        "id": "7rUrxeK_5S2Q"
      },
      "outputs": [],
      "source": [
        "# Extract the `Code` column and index from `airport_codes`, storing them in\n",
        "# a temporary tibble with new names, `ORIGIN_AIRPORT_ID` and `ORIGIN_INDEX`.\n",
        "origin_indices = airport_codes[['Code']].rename(columns={'Code': 'ORIGIN_AIRPORT_ID'})\n",
        "origin_indices['ORIGIN_INDEX'] = airport_codes.index\n",
        "\n",
        "# Since you might run this code cell multiple times, the following\n",
        "# check prevents `ORIGIN_ID` from appearing more than once.\n",
        "if 'ORIGIN_INDEX' in segments.columns:\n",
        "    del segments['ORIGIN_INDEX']\n",
        "\n",
        "# Perform the merge as a left-join of `segments` and `origin_ids`.\n",
        "segments = segments.merge(origin_indices, on='ORIGIN_AIRPORT_ID', how='left')\n",
        "segments.head()"
      ]
    },
    {
      "cell_type": "markdown",
      "metadata": {
        "nbgrader": {
          "grade": false,
          "grade_id": "exercise_4",
          "locked": true,
          "schema_version": 1,
          "solution": false
        },
        "id": "_L_n2qsj5S2Q"
      },
      "source": [
        "**Exercise 4** (1 point). Analogous to the preceding procedure, create a new column called `segments['DEST_INDEX']` to hold the integer index of each segment's _destination_."
      ]
    },
    {
      "cell_type": "code",
      "execution_count": null,
      "metadata": {
        "collapsed": true,
        "nbgrader": {
          "grade": false,
          "grade_id": "dest_id",
          "locked": false,
          "schema_version": 1,
          "solution": true
        },
        "id": "bhXaKi4M5S2R"
      },
      "outputs": [],
      "source": [
        "#\n",
        "# YOUR CODE HERE\n",
        "#\n",
        "\n",
        "# Visually inspect your result:\n",
        "segments.head()"
      ]
    },
    {
      "cell_type": "code",
      "execution_count": null,
      "metadata": {
        "collapsed": true,
        "nbgrader": {
          "grade": true,
          "grade_id": "dest_id_test",
          "locked": true,
          "points": 1,
          "schema_version": 1,
          "solution": false
        },
        "id": "nDNm3prn5S2R"
      },
      "outputs": [],
      "source": [
        "# Test cell: `dest_id_test`\n",
        "\n",
        "if False:\n",
        "    segments.to_csv('segments_soln.csv', index=False)\n",
        "segments_soln = pd.read_csv('{}{}'.format(DATA_PATH, 'segments_soln.csv'))\n",
        "\n",
        "assert tibbles_are_equivalent(segments, segments_soln), \\\n",
        "       \"Your solution does not match the instructors'.\"\n",
        "\n",
        "print(\"\\n(Passed!)\")"
      ]
    },
    {
      "cell_type": "markdown",
      "metadata": {
        "nbgrader": {
          "grade": false,
          "grade_id": "preprocess_step_2",
          "locked": true,
          "schema_version": 1,
          "solution": false
        },
        "id": "pPI5MCvW5S2S"
      },
      "source": [
        "**Step 2: Computing edge weights.** Armed with the preceding mapping, let's next determine each segment's transition probability, or \"weight,\" $p_{ij}$.\n",
        "\n",
        "For each origin $i$, let $d_i$ be the number of outgoing edges, or _outdegree_. Note that this value is *not* the same as the total number of (historical) outbound _segments_; rather, let's take $d_i$ to be just the number of airports reachable directly from $i$. For instance, consider all flights departing the airport whose airport code is 10135:"
      ]
    },
    {
      "cell_type": "code",
      "execution_count": null,
      "metadata": {
        "collapsed": true,
        "nbgrader": {
          "grade": false,
          "grade_id": "abe_departures",
          "locked": true,
          "schema_version": 1,
          "solution": false
        },
        "id": "mjU6ZvLH5S2S"
      },
      "outputs": [],
      "source": [
        "display(airport_codes[airport_codes['Code'] == 10135])\n",
        "\n",
        "abe_segments = segments[segments['ORIGIN_AIRPORT_ID'] == 10135]\n",
        "display(abe_segments)\n",
        "\n",
        "print(\"Total outgoing segments:\", abe_segments['FL_COUNT'].sum())"
      ]
    },
    {
      "cell_type": "code",
      "execution_count": null,
      "metadata": {
        "collapsed": true,
        "nbgrader": {
          "grade": false,
          "grade_id": "display_p_i_j_example",
          "locked": true,
          "schema_version": 1,
          "solution": false
        },
        "id": "UA4lVFmx5S2T"
      },
      "outputs": [],
      "source": [
        "k_ABE = abe_segments['FL_COUNT'].sum()\n",
        "d_ABE = len(abe_segments)\n",
        "i_ABE = abe_segments['ORIGIN_AIRPORT_ID'].values[0]\n",
        "\n",
        "display(Markdown('''\n",
        "Though `ABE` has {} outgoing segments,\n",
        "its outdegree or number of outgoing edges is just {}.\n",
        "Thus, `ABE`, whose airport id is $i={}$, has $d_{{{}}} = {}$.\n",
        "'''.format(k_ABE, d_ABE, i_ABE, i_ABE, d_ABE)))"
      ]
    },
    {
      "cell_type": "markdown",
      "metadata": {
        "nbgrader": {
          "grade": false,
          "grade_id": "exercise_5",
          "locked": true,
          "schema_version": 1,
          "solution": false
        },
        "id": "GVglJuZt5S2T"
      },
      "source": [
        "**Exercise 5** (3 points). Add a new column named `OUTDEGREE` to the `segments` tibble that holds the outdegrees, $\\{d_i\\}$. That is, for each row whose airport _index_ (as opposed to code) is $i$, its entry of `OUTDEGREE` should be $d_i$.\n",
        "\n",
        "For instance, the rows of segments corresponding to airport ABE (code 10135 and matrix index 119) would look like this:\n",
        "\n",
        "ORIGIN_AIRPORT_ID | DEST_AIRPORT_ID | FL_COUNT | ORIGIN_INDEX | DEST_INDEX | OUTDEGREE\n",
        "------------------|-----------------|----------|--------------|------------|----------\n",
        "10135             | 10397           | 77       | 119          | 373        | 3\n",
        "10135             | 11433           | 85       | 119          | 1375       | 3\n",
        "10135             | 13930           | 18       | 119          | 3770       | 3"
      ]
    },
    {
      "cell_type": "code",
      "execution_count": null,
      "metadata": {
        "collapsed": true,
        "nbgrader": {
          "grade": false,
          "grade_id": "weights",
          "locked": false,
          "schema_version": 1,
          "solution": true
        },
        "id": "IQkS_gNi5S2U"
      },
      "outputs": [],
      "source": [
        "# This `if` removes an existing `OUTDEGREE` column\n",
        "# in case you run this cell more than once.\n",
        "if 'OUTDEGREE' in segments.columns:\n",
        "    del segments['OUTDEGREE']\n",
        "\n",
        "#\n",
        "# YOUR CODE HERE\n",
        "#\n",
        "\n",
        "# Visually inspect the first ten rows of your result:\n",
        "segments.head(10)"
      ]
    },
    {
      "cell_type": "code",
      "execution_count": null,
      "metadata": {
        "collapsed": true,
        "nbgrader": {
          "grade": true,
          "grade_id": "weights_test",
          "locked": true,
          "points": 3,
          "schema_version": 1,
          "solution": false
        },
        "id": "MrL4to-X5S2V"
      },
      "outputs": [],
      "source": [
        "# Test cell: `weights_test`\n",
        "\n",
        "if False:\n",
        "    segments.to_csv('segments_outdegree_soln.csv', index=False)\n",
        "\n",
        "segments_outdegree_soln = pd.read_csv('{}{}'.format(DATA_PATH, 'segments_outdegree_soln.csv'))\n",
        "\n",
        "assert tibbles_are_equivalent(segments, segments_outdegree_soln), \\\n",
        "       \"Your solution does not appear to match the instructors'.\"\n",
        "\n",
        "print(\"\\n(Passed!)\")"
      ]
    },
    {
      "cell_type": "markdown",
      "metadata": {
        "nbgrader": {
          "grade": false,
          "grade_id": "cell-ef03209a290ef1d1",
          "locked": true,
          "schema_version": 1,
          "solution": false
        },
        "id": "cfd3DL345S2V"
      },
      "source": [
        "**From outdegree to weight.** Given the outdegree $d_i$, let $p_{ij} = \\frac{1}{d_i}$. In other words, suppose that a random flyer at airport $i$ is _equally likely_ to pick any of the destinations directly reachable from $i$. The following code cell stores that value in a new column, `WEIGHT`."
      ]
    },
    {
      "cell_type": "code",
      "execution_count": null,
      "metadata": {
        "collapsed": true,
        "nbgrader": {
          "grade": false,
          "grade_id": "cell-03271168175f9c17",
          "locked": true,
          "schema_version": 1,
          "solution": false
        },
        "id": "FlF266fs5S2W"
      },
      "outputs": [],
      "source": [
        "if 'WEIGHT' in segments:\n",
        "    del segments['WEIGHT']\n",
        "\n",
        "segments['WEIGHT'] = 1.0 / segments['OUTDEGREE']\n",
        "display(segments.head(10))\n",
        "\n",
        "# These should sum to 1.0!\n",
        "origin_groups = segments[['ORIGIN_INDEX', 'WEIGHT']].groupby('ORIGIN_INDEX')\n",
        "assert np.allclose(origin_groups.sum(), 1.0, atol=10*n_actual*np.finfo(float).eps), \"Rows of $P$ do not sum to 1.0\""
      ]
    },
    {
      "cell_type": "markdown",
      "metadata": {
        "nbgrader": {
          "grade": false,
          "grade_id": "exercise_6",
          "locked": true,
          "schema_version": 1,
          "solution": false
        },
        "id": "t0l-rq975S2W"
      },
      "source": [
        "**Exercise 6** (2 points). With your updated `segments` tibble, construct a sparse matrix, `P`, corresponding to the state-transition matrix $P$. Use SciPy's [scipy.sparse.coo_matrix()](https://docs.scipy.org/doc/scipy/reference/generated/scipy.sparse.coo_matrix.html) function to construct this matrix.\n",
        "\n",
        "The dimension of the matrix should be `n_airports` by `n_airports`. If an airport does not have any outgoing segments in the data, it should appear as a row of zeroes."
      ]
    },
    {
      "cell_type": "code",
      "execution_count": null,
      "metadata": {
        "collapsed": true,
        "nbgrader": {
          "grade": false,
          "grade_id": "P",
          "locked": false,
          "schema_version": 1,
          "solution": true
        },
        "id": "h7R03MBz5S2W"
      },
      "outputs": [],
      "source": [
        "#\n",
        "# YOUR CODE HERE\n",
        "#\n",
        "\n",
        "# Visually inspect your result:\n",
        "spy(P)"
      ]
    },
    {
      "cell_type": "code",
      "execution_count": null,
      "metadata": {
        "collapsed": true,
        "nbgrader": {
          "grade": true,
          "grade_id": "P_test",
          "locked": true,
          "points": 1,
          "schema_version": 1,
          "solution": false
        },
        "id": "V8We14LE5S2X"
      },
      "outputs": [],
      "source": [
        "# Test cell: `P_test`\n",
        "\n",
        "assert type(P) is sp.sparse.coo.coo_matrix, \\\n",
        "       \"Matrix object has type {}, and is not a Numpy COO sparse matrix.\".format(type(P))\n",
        "assert P.shape == (n_airports, n_airports), \"Matrix has the wrong shape: it is {} x {} instead of {} x {}\".format(P.shape[0], P.shape[1], n_airports, n_airports)\n",
        "\n",
        "# Check row sums, which must be either 0 or 1\n",
        "n = P.shape[0]\n",
        "u = np.ones(n)\n",
        "row_sums = P.dot(u)\n",
        "is_near_zero = np.isclose(row_sums, 0.0, atol=10*n*np.finfo(float).eps)\n",
        "is_near_one = np.isclose(row_sums, 1.0, atol=10*n*np.finfo(float).eps)\n",
        "assert (is_near_zero | is_near_one).all()\n",
        "assert sum(is_near_one) == n_actual\n",
        "\n",
        "print(\"\\n(Passed!)\")"
      ]
    },
    {
      "cell_type": "markdown",
      "metadata": {
        "nbgrader": {
          "grade": false,
          "grade_id": "note_coo_csr",
          "locked": true,
          "schema_version": 1,
          "solution": false
        },
        "id": "jhVAm3PU5S2X"
      },
      "source": [
        "> **Note: Other formats.** The preceding code asked you to use coordinate (\"COO\") format to store the matrix. However, you may sometimes need to convert or use other formats. For example, SciPy provides many general graph processing algorithms in its [`csgraph` submodule](https://docs.scipy.org/doc/scipy/reference/sparse.csgraph.html). These routines expect the input graph as a sparse matrix, but one stored in compressed sparse row (\"CSR\") format rather than COO."
      ]
    },
    {
      "cell_type": "markdown",
      "metadata": {
        "nbgrader": {
          "grade": false,
          "grade_id": "steady_state",
          "locked": true,
          "schema_version": 1,
          "solution": false
        },
        "id": "L41SPx1t5S2X"
      },
      "source": [
        "## Part 2, analysis: Computing the steady-state distribution\n",
        "\n",
        "Armed with the state-transition matrix $P$, you can now compute the steady-state distribution."
      ]
    },
    {
      "cell_type": "markdown",
      "metadata": {
        "nbgrader": {
          "grade": false,
          "grade_id": "exercise_7",
          "locked": true,
          "schema_version": 1,
          "solution": false
        },
        "id": "LH4lzwSm5S2X"
      },
      "source": [
        "**Exercise 7** (1 point). At time $t=0$, suppose the random flyer is equally likely to be at any airport with an outbound segment, i.e., the flyer is at one of the \"actual\" origins. Create a NumPy vector `x0[:]` such that `x0[i]` equals this initial probability of being at airport `i`.\n",
        "\n",
        "> Note: If some airport $i$ has _no_ outbound flights, then be sure that $x_i(0) = 0$."
      ]
    },
    {
      "cell_type": "code",
      "execution_count": null,
      "metadata": {
        "collapsed": true,
        "nbgrader": {
          "grade": false,
          "grade_id": "x0",
          "locked": false,
          "schema_version": 1,
          "solution": true
        },
        "id": "LZwUsBsN5S2Y"
      },
      "outputs": [],
      "source": [
        "# Your task: Create `x0` as directed above.\n",
        "\n",
        "#\n",
        "# YOUR CODE HERE\n",
        "#\n",
        "\n",
        "# Visually inspect your result:\n",
        "def display_vec_sparsely(x, name='x'):\n",
        "    i_nz = np.argwhere(x).flatten()\n",
        "    df_x_nz = pd.DataFrame({'i': i_nz, '{}[i] (non-zero only)'.format(name): x[i_nz]})\n",
        "    display(df_x_nz.head())\n",
        "    print(\"...\")\n",
        "    display(df_x_nz.tail())\n",
        "\n",
        "display_vec_sparsely(x0, name='x0')"
      ]
    },
    {
      "cell_type": "code",
      "execution_count": null,
      "metadata": {
        "collapsed": true,
        "nbgrader": {
          "grade": true,
          "grade_id": "x0_test",
          "locked": true,
          "points": 1,
          "schema_version": 1,
          "solution": false
        },
        "id": "fJn6e8vN5S2Z"
      },
      "outputs": [],
      "source": [
        "# Test cell: `x0_test`\n",
        "\n",
        "assert type(x0) is np.ndarray, \"`x0` does not appear to be a Numpy array.\"\n",
        "assert np.isclose(x0.sum(), 1.0, atol=10*n*np.finfo(float).eps), \"`x0` does not sum to 1.0, but it should.\"\n",
        "assert np.isclose(x0.max(), 1.0/n_actual, atol=10*n*np.finfo(float).eps), \"`x0` values seem off...\"\n",
        "\n",
        "print(\"\\n(Passed!)\")"
      ]
    },
    {
      "cell_type": "markdown",
      "metadata": {
        "nbgrader": {
          "grade": false,
          "grade_id": "exercise_8",
          "locked": true,
          "schema_version": 1,
          "solution": false
        },
        "id": "QPISSTRc5S2Z"
      },
      "source": [
        "**Exercise 8** (2 points). Given the state-transition matrix `P`, an initial vector `x0`, and the number of time steps `t_max`, complete the function `eval_markov_chain(P, x0, t_max)` so that it computes and returns $x(t_{\\textrm{max}})$."
      ]
    },
    {
      "cell_type": "code",
      "execution_count": null,
      "metadata": {
        "collapsed": true,
        "nbgrader": {
          "grade": false,
          "grade_id": "eval_markov_chain",
          "locked": false,
          "schema_version": 1,
          "solution": true
        },
        "id": "9Mxp8k_F5S2Z"
      },
      "outputs": [],
      "source": [
        "def eval_markov_chain(P, x0, t_max):\n",
        "    #\n",
        "    # YOUR CODE HERE\n",
        "    #\n",
        "\n",
        "T_MAX = 50\n",
        "x = eval_markov_chain(P, x0, T_MAX)\n",
        "display_vec_sparsely(x)\n",
        "\n",
        "print(\"\\n=== Top 10 airports ===\\n\")\n",
        "ranks = np.argsort(-x)\n",
        "top10 = pd.DataFrame({'Rank': np.arange(1, 11),\n",
        "                      'Code': airport_codes.iloc[ranks[:10]]['Code'],\n",
        "                      'Description': airport_codes.iloc[ranks[:10]]['Description'],\n",
        "                      'x(t)': x[ranks[:10]]})\n",
        "top10[['x(t)', 'Rank', 'Code', 'Description']]"
      ]
    },
    {
      "cell_type": "code",
      "execution_count": null,
      "metadata": {
        "collapsed": true,
        "nbgrader": {
          "grade": true,
          "grade_id": "eval_markov_chain_test",
          "locked": true,
          "points": 2,
          "schema_version": 1,
          "solution": false
        },
        "id": "JmGjZLNM5S2a"
      },
      "outputs": [],
      "source": [
        "# Test cell: `eval_markov_chain_test`\n",
        "\n",
        "print(x.sum())\n",
        "assert np.isclose(x.sum(), 1.0, atol=T_MAX*n_actual*np.finfo(float).eps)\n",
        "\n",
        "print(\"\\nTop 10 airports by Markov chain analysis:\\n\", list(top10['Code']))\n",
        "print(\"\\nCompare that to the Top 10 by (historical) outbound segments:\\n\", list(origins_top10['ID']))\n",
        "\n",
        "A = set(top10['Code'])\n",
        "B = set(origins_top10['ID'])\n",
        "C = (A - B) | (B - A)\n",
        "print(\"\\nAirports that appear in one list but not the other:\\n{}\".format(C))\n",
        "assert C == {11618, 11433, 12266, 14771, 14869, 12889, 14747, 12892}\n",
        "\n",
        "print(\"\\n(Passed!)\")"
      ]
    },
    {
      "cell_type": "markdown",
      "metadata": {
        "id": "IZSAxCTA5S2a"
      },
      "source": [
        "**Comparing the two rankings.** Before ending this notebook, let's create a table that compares our two rankings, side-by-side, where the first ranking is the result of the Markov chain analysis and the second from a ranking based solely on number of segments."
      ]
    },
    {
      "cell_type": "code",
      "execution_count": null,
      "metadata": {
        "collapsed": true,
        "nbgrader": {
          "grade": false,
          "grade_id": "compare_top10s",
          "locked": true,
          "schema_version": 1,
          "solution": false
        },
        "id": "1xVgnpjH5S2a"
      },
      "outputs": [],
      "source": [
        "top10_with_ranks = top10[['Code', 'Rank', 'Description']].copy()\n",
        "\n",
        "origins_top10_with_ranks = origins_top10[['ID', 'Description']].copy()\n",
        "origins_top10_with_ranks.rename(columns={'ID': 'Code'}, inplace=True)\n",
        "origins_top10_with_ranks['Rank'] = origins_top10.index + 1\n",
        "origins_top10_with_ranks = origins_top10_with_ranks[['Code', 'Rank', 'Description']]\n",
        "\n",
        "top10_compare = top10_with_ranks.merge(origins_top10_with_ranks, how='outer', on='Code',\n",
        "                                       suffixes=['_MC', '_Seg'])\n",
        "top10_compare"
      ]
    },
    {
      "cell_type": "markdown",
      "metadata": {
        "collapsed": true,
        "nbgrader": {
          "grade": false,
          "grade_id": "fin",
          "locked": true,
          "schema_version": 1,
          "solution": false
        },
        "id": "HaDlXZnD5S2b"
      },
      "source": [
        "**Fin!** That's it! You've determined the top 10 airports at which a random flyer ends up, assuming he or she randomly selects directly reachable destinations. How does it compare, qualitatively, to a ranking based instead on (historical) outbound segments? Which ranking is a better measure of importance to the overall airport network?\n",
        "\n",
        "Be sure to submit this notebook to get credit for it."
      ]
    }
  ],
  "metadata": {
    "celltoolbar": "Create Assignment",
    "kernelspec": {
      "display_name": "Python 3",
      "language": "python",
      "name": "python3"
    },
    "language_info": {
      "codemirror_mode": {
        "name": "ipython",
        "version": 3
      },
      "file_extension": ".py",
      "mimetype": "text/x-python",
      "name": "python",
      "nbconvert_exporter": "python",
      "pygments_lexer": "ipython3",
      "version": "3.6.2"
    },
    "colab": {
      "provenance": []
    }
  },
  "nbformat": 4,
  "nbformat_minor": 0
}